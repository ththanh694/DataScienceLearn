{
  "nbformat": 4,
  "nbformat_minor": 0,
  "metadata": {
    "colab": {
      "provenance": [],
      "collapsed_sections": [
        "GMGLufZ4T6xk"
      ],
      "authorship_tag": "ABX9TyPheuo/LCRJfKFztMWPWxSh",
      "include_colab_link": true
    },
    "kernelspec": {
      "name": "python3",
      "display_name": "Python 3"
    },
    "language_info": {
      "name": "python"
    }
  },
  "cells": [
    {
      "cell_type": "markdown",
      "metadata": {
        "id": "view-in-github",
        "colab_type": "text"
      },
      "source": [
        "<a href=\"https://colab.research.google.com/github/ththanh694/DataScienceLearn/blob/main/datascienceecosystem.ipynb\" target=\"_parent\"><img src=\"https://colab.research.google.com/assets/colab-badge.svg\" alt=\"Open In Colab\"/></a>"
      ]
    },
    {
      "cell_type": "markdown",
      "source": [
        "# **Data Science Tools and Ecosystem**\n",
        "\n",
        "---\n"
      ],
      "metadata": {
        "id": "Q8oTtxT1XhPZ"
      }
    },
    {
      "cell_type": "markdown",
      "source": [
        "## In this notebook, Data Science Tools and Ecosystem are summarized."
      ],
      "metadata": {
        "id": "W9cAJVpyQLjx"
      }
    },
    {
      "cell_type": "markdown",
      "source": [
        "Some of the popular languages that Data Scientists use are:\n",
        "- R\n",
        "- Python\n",
        "- Scala\n"
      ],
      "metadata": {
        "id": "yG2w3LzFP3Kn"
      }
    },
    {
      "cell_type": "markdown",
      "source": [
        "Some of the commonly used libraries used by Data Scientists include:\n",
        "- TensorFlow\n",
        "- Dash\n",
        "- Pytorch"
      ],
      "metadata": {
        "id": "0IFiizFoQlLx"
      }
    },
    {
      "cell_type": "markdown",
      "source": [
        "| Data Science Tools |\n",
        "|-------------------|\n",
        "| Weka              |\n",
        "| Scrapy            |\n",
        "| Pandas            |"
      ],
      "metadata": {
        "id": "JDeZrHPDThpi"
      }
    },
    {
      "cell_type": "markdown",
      "source": [
        "# Below are a few examples of evaluating arithmetic expressions in Python."
      ],
      "metadata": {
        "id": "Z_0jAaRtXcSV"
      }
    },
    {
      "cell_type": "code",
      "source": [
        "(3*4)+5\n",
        "#Below are a few examples of evaluating arithmetic expressions in Python.\n"
      ],
      "metadata": {
        "colab": {
          "base_uri": "https://localhost:8080/"
        },
        "id": "urfyi4FFUEKz",
        "outputId": "a6c3f01e-8f97-4daf-9cac-40afb8f351d7"
      },
      "execution_count": null,
      "outputs": [
        {
          "output_type": "execute_result",
          "data": {
            "text/plain": [
              "17"
            ]
          },
          "metadata": {},
          "execution_count": 3
        }
      ]
    },
    {
      "cell_type": "code",
      "source": [
        "#This will convert 200 minutes to hours by diving by 60\n",
        "200/60"
      ],
      "metadata": {
        "colab": {
          "base_uri": "https://localhost:8080/"
        },
        "id": "PjIjRopNURcq",
        "outputId": "d9d989f4-0c34-4463-b5d5-b71a0e727309"
      },
      "execution_count": null,
      "outputs": [
        {
          "output_type": "execute_result",
          "data": {
            "text/plain": [
              "3.3333333333333335"
            ]
          },
          "metadata": {},
          "execution_count": 4
        }
      ]
    },
    {
      "cell_type": "markdown",
      "source": [
        "-----"
      ],
      "metadata": {
        "id": "cotlL-QaXvLg"
      }
    },
    {
      "cell_type": "markdown",
      "source": [
        "# Than Thanh"
      ],
      "metadata": {
        "id": "KcP84cRqX7sv"
      }
    }
  ]
}